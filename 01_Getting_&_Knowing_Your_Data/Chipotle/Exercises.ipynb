{
 "cells": [
  {
   "cell_type": "markdown",
   "metadata": {},
   "source": [
    "# Ex2 - Getting and Knowing your Data"
   ]
  },
  {
   "cell_type": "markdown",
   "metadata": {},
   "source": [
    "This time we are going to pull data directly from the internet.\n",
    "Special thanks to: https://github.com/justmarkham for sharing the dataset and materials.\n",
    "\n",
    "### Step 1. Import the necessary libraries"
   ]
  },
  {
   "cell_type": "code",
   "execution_count": 1,
   "metadata": {
    "collapsed": false
   },
   "outputs": [],
   "source": [
    "import pandas as pd\n",
    "\n"
   ]
  },
  {
   "cell_type": "markdown",
   "metadata": {},
   "source": [
    "### Step 2. Import the dataset from this [address](https://raw.githubusercontent.com/justmarkham/DAT8/master/data/chipotle.tsv). "
   ]
  },
  {
   "cell_type": "markdown",
   "metadata": {},
   "source": [
    "### Step 3. Assign it to a variable called chipo."
   ]
  },
  {
   "cell_type": "code",
   "execution_count": 8,
   "metadata": {
    "collapsed": false
   },
   "outputs": [],
   "source": [
    "chipo = pd.read_csv(\"https://raw.githubusercontent.com/justmarkham/DAT8/master/data/chipotle.tsv\", sep = \"\\t\")"
   ]
  },
  {
   "cell_type": "markdown",
   "metadata": {},
   "source": [
    "### Step 4. See the first 10 entries"
   ]
  },
  {
   "cell_type": "code",
   "execution_count": 16,
   "metadata": {
    "collapsed": false,
    "scrolled": false
   },
   "outputs": [
    {
     "name": "stdout",
     "output_type": "stream",
     "text": [
      "   order_id  quantity                              item_name  \\\n",
      "0         1         1           Chips and Fresh Tomato Salsa   \n",
      "1         1         1                                   Izze   \n",
      "2         1         1                       Nantucket Nectar   \n",
      "3         1         1  Chips and Tomatillo-Green Chili Salsa   \n",
      "4         2         2                           Chicken Bowl   \n",
      "5         3         1                           Chicken Bowl   \n",
      "6         3         1                          Side of Chips   \n",
      "7         4         1                          Steak Burrito   \n",
      "8         4         1                       Steak Soft Tacos   \n",
      "9         5         1                          Steak Burrito   \n",
      "\n",
      "                                  choice_description item_price  \n",
      "0                                                NaN     $2.39   \n",
      "1                                       [Clementine]     $3.39   \n",
      "2                                            [Apple]     $3.39   \n",
      "3                                                NaN     $2.39   \n",
      "4  [Tomatillo-Red Chili Salsa (Hot), [Black Beans...    $16.98   \n",
      "5  [Fresh Tomato Salsa (Mild), [Rice, Cheese, Sou...    $10.98   \n",
      "6                                                NaN     $1.69   \n",
      "7  [Tomatillo Red Chili Salsa, [Fajita Vegetables...    $11.75   \n",
      "8  [Tomatillo Green Chili Salsa, [Pinto Beans, Ch...     $9.25   \n",
      "9  [Fresh Tomato Salsa, [Rice, Black Beans, Pinto...     $9.25   \n",
      "          order_id     quantity\n",
      "count  4622.000000  4622.000000\n",
      "mean    927.254868     1.075725\n",
      "std     528.890796     0.410186\n",
      "min       1.000000     1.000000\n",
      "25%     477.250000     1.000000\n",
      "50%     926.000000     1.000000\n",
      "75%    1393.000000     1.000000\n",
      "max    1834.000000    15.000000\n"
     ]
    }
   ],
   "source": [
    "print(chipo.head(10))\n",
    "print(chipo.describe())"
   ]
  },
  {
   "cell_type": "markdown",
   "metadata": {},
   "source": [
    "### Step 5. What is the number of observations in the dataset?"
   ]
  },
  {
   "cell_type": "code",
   "execution_count": 17,
   "metadata": {
    "collapsed": false
   },
   "outputs": [
    {
     "name": "stdout",
     "output_type": "stream",
     "text": [
      "4622\n"
     ]
    }
   ],
   "source": [
    "# Solution 1\n",
    "\n",
    "print(chipo.order_id.count())"
   ]
  },
  {
   "cell_type": "code",
   "execution_count": 2,
   "metadata": {
    "collapsed": false
   },
   "outputs": [],
   "source": [
    "# Solution 2\n",
    "\n"
   ]
  },
  {
   "cell_type": "markdown",
   "metadata": {},
   "source": [
    "### Step 6. What is the number of columns in the dataset?"
   ]
  },
  {
   "cell_type": "code",
   "execution_count": 12,
   "metadata": {
    "collapsed": false
   },
   "outputs": [
    {
     "name": "stdout",
     "output_type": "stream",
     "text": [
      "5\n"
     ]
    }
   ],
   "source": [
    "print(chipo.columns.nunique())"
   ]
  },
  {
   "cell_type": "markdown",
   "metadata": {},
   "source": [
    "### Step 7. Print the name of all the columns."
   ]
  },
  {
   "cell_type": "code",
   "execution_count": 23,
   "metadata": {
    "collapsed": false
   },
   "outputs": [
    {
     "name": "stdout",
     "output_type": "stream",
     "text": [
      "['order_id' 'quantity' 'item_name' 'choice_description' 'item_price']\n"
     ]
    }
   ],
   "source": [
    "print(chipo.columns.values)"
   ]
  },
  {
   "cell_type": "markdown",
   "metadata": {},
   "source": [
    "### Step 8. How is the dataset indexed?"
   ]
  },
  {
   "cell_type": "code",
   "execution_count": 26,
   "metadata": {
    "collapsed": false
   },
   "outputs": [
    {
     "name": "stdout",
     "output_type": "stream",
     "text": [
      "int64\n"
     ]
    }
   ],
   "source": [
    "print(chipo.index.values.dtype)"
   ]
  },
  {
   "cell_type": "markdown",
   "metadata": {},
   "source": [
    "### Step 9. Which was the most-ordered item? "
   ]
  },
  {
   "cell_type": "code",
   "execution_count": 59,
   "metadata": {
    "collapsed": false
   },
   "outputs": [
    {
     "name": "stdout",
     "output_type": "stream",
     "text": [
      "                                item_name  quantity\n",
      "0                       6 Pack Soft Drink        55\n",
      "1                           Barbacoa Bowl        66\n",
      "2                        Barbacoa Burrito        91\n",
      "3                   Barbacoa Crispy Tacos        12\n",
      "4                     Barbacoa Salad Bowl        10\n",
      "5                     Barbacoa Soft Tacos        25\n",
      "6                           Bottled Water       211\n",
      "7                                    Bowl         4\n",
      "8                                 Burrito         6\n",
      "9                             Canned Soda       126\n",
      "10                      Canned Soft Drink       351\n",
      "11                          Carnitas Bowl        71\n",
      "12                       Carnitas Burrito        60\n",
      "13                  Carnitas Crispy Tacos         8\n",
      "14                         Carnitas Salad         1\n",
      "15                    Carnitas Salad Bowl         6\n",
      "16                    Carnitas Soft Tacos        40\n",
      "17                           Chicken Bowl       761\n",
      "18                        Chicken Burrito       591\n",
      "19                   Chicken Crispy Tacos        50\n",
      "20                          Chicken Salad         9\n",
      "21                     Chicken Salad Bowl       123\n",
      "22                     Chicken Soft Tacos       120\n",
      "23                                  Chips       230\n",
      "24           Chips and Fresh Tomato Salsa       130\n",
      "25                    Chips and Guacamole       506\n",
      "26      Chips and Mild Fresh Tomato Salsa         1\n",
      "27     Chips and Roasted Chili Corn Salsa        23\n",
      "28     Chips and Roasted Chili-Corn Salsa        18\n",
      "29  Chips and Tomatillo Green Chili Salsa        45\n",
      "30    Chips and Tomatillo Red Chili Salsa        50\n",
      "31  Chips and Tomatillo-Green Chili Salsa        33\n",
      "32    Chips and Tomatillo-Red Chili Salsa        25\n",
      "33                           Crispy Tacos         2\n",
      "34                                   Izze        20\n",
      "35                       Nantucket Nectar        29\n",
      "36                                  Salad         2\n",
      "37                          Side of Chips       110\n",
      "38                             Steak Bowl       221\n",
      "39                          Steak Burrito       386\n",
      "40                     Steak Crispy Tacos        36\n",
      "41                            Steak Salad         4\n",
      "42                       Steak Salad Bowl        31\n",
      "43                       Steak Soft Tacos        56\n",
      "44                            Veggie Bowl        87\n",
      "45                         Veggie Burrito        97\n",
      "46                    Veggie Crispy Tacos         1\n",
      "47                           Veggie Salad         6\n",
      "48                      Veggie Salad Bowl        18\n",
      "49                      Veggie Soft Tacos         8\n",
      "       item_name  quantity\n",
      "17  Chicken Bowl       761\n"
     ]
    }
   ],
   "source": [
    "\n",
    "sum_df = chipo.groupby([\"item_name\"]).quantity.sum().reset_index()\n",
    "print(sum_df)\n",
    "print(sum_df[sum_df[\"quantity\"] == sum_df.quantity.max()])\n",
    "# print(chipo.groupby([\"item_name\",\"quantity\"]).count())"
   ]
  },
  {
   "cell_type": "markdown",
   "metadata": {},
   "source": [
    "### Step 10. For the most-ordered item, how many items were ordered?"
   ]
  },
  {
   "cell_type": "code",
   "execution_count": 60,
   "metadata": {
    "collapsed": false
   },
   "outputs": [
    {
     "name": "stdout",
     "output_type": "stream",
     "text": [
      "17    761\n",
      "Name: quantity, dtype: int64\n"
     ]
    }
   ],
   "source": [
    "print(sum_df[sum_df[\"quantity\"] == sum_df.quantity.max()].quantity)"
   ]
  },
  {
   "cell_type": "markdown",
   "metadata": {},
   "source": [
    "### Step 11. What was the most ordered item in the choice_description column?"
   ]
  },
  {
   "cell_type": "code",
   "execution_count": 71,
   "metadata": {
    "collapsed": false
   },
   "outputs": [
    {
     "name": "stdout",
     "output_type": "stream",
     "text": [
      "                                                    order_id  quantity\n",
      "choice_description                                                    \n",
      "[Diet Coke]                                           123455       159\n",
      "[Coke]                                                122752       143\n",
      "[Sprite]                                               80426        89\n",
      "[Fresh Tomato Salsa, [Rice, Black Beans, Cheese...     43088        49\n",
      "[Fresh Tomato Salsa, [Rice, Black Beans, Cheese...     36041        42\n",
      "...                                                      ...       ...\n",
      "[Roasted Chili Corn Salsa, [Fajita Vegetables, ...       577         1\n",
      "[Roasted Chili Corn Salsa, [Fajita Vegetables, ...       585         1\n",
      "[Roasted Chili Corn Salsa, [Fajita Vegetables, ...       235         1\n",
      "[Roasted Chili Corn Salsa, [Guacamole, Sour Cre...       987         1\n",
      "[[Tomatillo-Red Chili Salsa (Hot), Tomatillo-Gr...      1299         1\n",
      "\n",
      "[1043 rows x 2 columns]\n"
     ]
    }
   ],
   "source": [
    "a = chipo.groupby([\"choice_description\"]).sum().sort_values([\"quantity\"], ascending= False)\n",
    "print(a)"
   ]
  },
  {
   "cell_type": "markdown",
   "metadata": {},
   "source": [
    "### Step 12. How many items were orderd in total?"
   ]
  },
  {
   "cell_type": "code",
   "execution_count": 73,
   "metadata": {
    "collapsed": false
   },
   "outputs": [
    {
     "name": "stdout",
     "output_type": "stream",
     "text": [
      "4972\n"
     ]
    }
   ],
   "source": [
    "print(chipo.quantity.sum())"
   ]
  },
  {
   "cell_type": "markdown",
   "metadata": {},
   "source": [
    "### Step 13. Turn the item price into a float"
   ]
  },
  {
   "cell_type": "markdown",
   "metadata": {},
   "source": [
    "#### Step 13.a. Check the item price type"
   ]
  },
  {
   "cell_type": "code",
   "execution_count": null,
   "metadata": {
    "collapsed": false
   },
   "outputs": [],
   "source": []
  },
  {
   "cell_type": "markdown",
   "metadata": {},
   "source": [
    "#### Step 13.b. Create a lambda function and change the type of item price"
   ]
  },
  {
   "cell_type": "code",
   "execution_count": null,
   "metadata": {
    "collapsed": true
   },
   "outputs": [],
   "source": []
  },
  {
   "cell_type": "markdown",
   "metadata": {},
   "source": [
    "#### Step 13.c. Check the item price type"
   ]
  },
  {
   "cell_type": "code",
   "execution_count": null,
   "metadata": {
    "collapsed": false
   },
   "outputs": [],
   "source": []
  },
  {
   "cell_type": "markdown",
   "metadata": {},
   "source": [
    "### Step 14. How much was the revenue for the period in the dataset?"
   ]
  },
  {
   "cell_type": "code",
   "execution_count": null,
   "metadata": {
    "collapsed": false
   },
   "outputs": [],
   "source": []
  },
  {
   "cell_type": "markdown",
   "metadata": {},
   "source": [
    "### Step 15. How many orders were made in the period?"
   ]
  },
  {
   "cell_type": "code",
   "execution_count": null,
   "metadata": {
    "collapsed": false
   },
   "outputs": [],
   "source": []
  },
  {
   "cell_type": "markdown",
   "metadata": {},
   "source": [
    "### Step 16. What is the average revenue amount per order?"
   ]
  },
  {
   "cell_type": "code",
   "execution_count": 3,
   "metadata": {
    "collapsed": false
   },
   "outputs": [],
   "source": [
    "# Solution 1\n",
    "\n"
   ]
  },
  {
   "cell_type": "code",
   "execution_count": 4,
   "metadata": {
    "collapsed": false
   },
   "outputs": [],
   "source": [
    "# Solution 2\n",
    "\n"
   ]
  },
  {
   "cell_type": "markdown",
   "metadata": {},
   "source": [
    "### Step 17. How many different items are sold?"
   ]
  },
  {
   "cell_type": "code",
   "execution_count": null,
   "metadata": {
    "collapsed": false
   },
   "outputs": [],
   "source": []
  }
 ],
 "metadata": {
  "anaconda-cloud": {},
  "kernelspec": {
   "display_name": "Python 3",
   "language": "python",
   "name": "python3"
  },
  "language_info": {
   "codemirror_mode": {
    "name": "ipython",
    "version": 3
   },
   "file_extension": ".py",
   "mimetype": "text/x-python",
   "name": "python",
   "nbconvert_exporter": "python",
   "pygments_lexer": "ipython3",
   "version": "3.8.0"
  }
 },
 "nbformat": 4,
 "nbformat_minor": 0
}
